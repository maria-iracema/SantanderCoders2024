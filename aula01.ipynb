{
 "cells": [
  {
   "cell_type": "code",
   "execution_count": 4,
   "id": "27459402-a937-492a-94bb-a4c2950fb5d8",
   "metadata": {},
   "outputs": [],
   "source": [
    "import numpy as np"
   ]
  },
  {
   "cell_type": "code",
   "execution_count": 5,
   "id": "d2b0fab4-6ee2-41b4-bcdc-6d0d32e4248a",
   "metadata": {},
   "outputs": [],
   "source": [
    "lista = [1, 2, 3, 4, 5]\n",
    "\n",
    "array = np.array(lista)"
   ]
  },
  {
   "cell_type": "code",
   "execution_count": 6,
   "id": "2e6cbce1-d1df-43f6-8779-bcf8f812a8e9",
   "metadata": {},
   "outputs": [
    {
     "name": "stdout",
     "output_type": "stream",
     "text": [
      "[1, 2, 3, 4, 5]\n",
      "[1 2 3 4 5]\n"
     ]
    }
   ],
   "source": [
    "print(lista)\n",
    "print(array)\n",
    "\n"
   ]
  },
  {
   "cell_type": "code",
   "execution_count": 7,
   "id": "67b55e48-7d7f-4b5b-bac2-2e441aeb6954",
   "metadata": {},
   "outputs": [
    {
     "name": "stdout",
     "output_type": "stream",
     "text": [
      "[0. 0. 0. 0. 0. 0. 0. 0. 0. 0.]\n"
     ]
    }
   ],
   "source": [
    "arr_zeros = np.zeros(10)\n",
    "\n",
    "print(arr_zeros)"
   ]
  },
  {
   "cell_type": "code",
   "execution_count": 8,
   "id": "bb30f987-9cb4-495a-bca5-103fea315ea1",
   "metadata": {},
   "outputs": [
    {
     "name": "stdout",
     "output_type": "stream",
     "text": [
      "[[0. 0. 0. 0. 0.]\n",
      " [0. 0. 0. 0. 0.]\n",
      " [0. 0. 0. 0. 0.]\n",
      " [0. 0. 0. 0. 0.]\n",
      " [0. 0. 0. 0. 0.]\n",
      " [0. 0. 0. 0. 0.]\n",
      " [0. 0. 0. 0. 0.]]\n"
     ]
    }
   ],
   "source": [
    "matriz_zeros = np.zeros((7, 5))\n",
    "print(matriz_zeros)"
   ]
  },
  {
   "cell_type": "code",
   "execution_count": 9,
   "id": "bdf3c302-eb35-4925-9525-06db1087bd05",
   "metadata": {},
   "outputs": [],
   "source": [
    "lista_de_notas = [9.9, 8.6, 7.9, 4.5]\n",
    "\n",
    "notas = np.array(lista_de_notas)"
   ]
  },
  {
   "cell_type": "code",
   "execution_count": 12,
   "id": "d0c3878c-1e6a-4332-934f-f899d6dc50a5",
   "metadata": {},
   "outputs": [
    {
     "name": "stdout",
     "output_type": "stream",
     "text": [
      "Maximo 9.9\n",
      "Minimo 4.5\n",
      "Desvio Padrão 1.995463605280738\n",
      "Media 7.725\n",
      "Posiçao notas 3\n"
     ]
    }
   ],
   "source": [
    "print('Maximo', notas.max())\n",
    "print('Minimo', notas.min())\n",
    "print('Desvio Padrão', notas.std())\n",
    "print('Media', notas.mean())\n",
    "print('Posiçao notas', notas.argmin())\n",
    "\n"
   ]
  },
  {
   "cell_type": "code",
   "execution_count": 19,
   "id": "573c17fb-4fd1-435c-ba0d-abd95b8087a6",
   "metadata": {},
   "outputs": [
    {
     "name": "stdin",
     "output_type": "stream",
     "text": [
      "Fala uma nota ae 10\n"
     ]
    },
    {
     "name": "stdout",
     "output_type": "stream",
     "text": [
      "passooour nega\n"
     ]
    }
   ],
   "source": [
    "pergunta = int(input(\"Fala uma nota ae\"))\n",
    "\n",
    "if pergunta >= 5 :\n",
    "    print(\"passooour nega\")\n",
    "else:\n",
    "    print(\"quaequaequaeeee! errooou!\")\n",
    "\n"
   ]
  },
  {
   "cell_type": "code",
   "execution_count": null,
   "id": "bdd5f7b6-4420-4f88-b9f9-f72859029ce9",
   "metadata": {},
   "outputs": [],
   "source": []
  }
 ],
 "metadata": {
  "kernelspec": {
   "display_name": "Python 3 (ipykernel)",
   "language": "python",
   "name": "python3"
  },
  "language_info": {
   "codemirror_mode": {
    "name": "ipython",
    "version": 3
   },
   "file_extension": ".py",
   "mimetype": "text/x-python",
   "name": "python",
   "nbconvert_exporter": "python",
   "pygments_lexer": "ipython3",
   "version": "3.11.7"
  }
 },
 "nbformat": 4,
 "nbformat_minor": 5
}
