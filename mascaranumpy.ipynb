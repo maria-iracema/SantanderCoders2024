{
 "cells": [
  {
   "cell_type": "code",
   "execution_count": 8,
   "id": "15b54b6b-fc60-429c-8d57-b8814efea5e0",
   "metadata": {},
   "outputs": [],
   "source": [
    "import numpy as np"
   ]
  },
  {
   "cell_type": "code",
   "execution_count": 9,
   "id": "66f83f50-857f-47a8-b232-66b2a30cfa7e",
   "metadata": {},
   "outputs": [],
   "source": [
    "ana = 8.6"
   ]
  },
  {
   "cell_type": "code",
   "execution_count": 10,
   "id": "8da74ba6-e8ac-433b-bdae-f930dfe37b08",
   "metadata": {},
   "outputs": [],
   "source": [
    "julia = 4.8"
   ]
  },
  {
   "cell_type": "code",
   "execution_count": 11,
   "id": "ca3d226c-bfb9-4336-83a1-f2d3e063e70a",
   "metadata": {},
   "outputs": [],
   "source": [
    "alice = 6.7"
   ]
  },
  {
   "cell_type": "code",
   "execution_count": 12,
   "id": "d2a991b1-cf0e-48b2-842d-66d3b3f4408f",
   "metadata": {},
   "outputs": [],
   "source": [
    "joao = 3.0"
   ]
  },
  {
   "cell_type": "code",
   "execution_count": 13,
   "id": "ae44366d-fa90-421b-88e6-8211508565c2",
   "metadata": {},
   "outputs": [],
   "source": [
    "notas = np.array([ana, julia, alice, joao])"
   ]
  },
  {
   "cell_type": "code",
   "execution_count": 14,
   "id": "1be8a691-ecfe-48ea-bf2e-5efe9bae295e",
   "metadata": {},
   "outputs": [],
   "source": [
    "mask_notas = notas >= 6"
   ]
  },
  {
   "cell_type": "code",
   "execution_count": 15,
   "id": "039920f5-fd32-4554-b761-314861239eff",
   "metadata": {},
   "outputs": [
    {
     "name": "stdout",
     "output_type": "stream",
     "text": [
      "[ True False  True False]\n"
     ]
    }
   ],
   "source": [
    "print(mask_notas)"
   ]
  },
  {
   "cell_type": "code",
   "execution_count": null,
   "id": "feab31fb-aacb-4cef-babe-dfcc9cce6546",
   "metadata": {},
   "outputs": [],
   "source": []
  }
 ],
 "metadata": {
  "kernelspec": {
   "display_name": "Python 3 (ipykernel)",
   "language": "python",
   "name": "python3"
  },
  "language_info": {
   "codemirror_mode": {
    "name": "ipython",
    "version": 3
   },
   "file_extension": ".py",
   "mimetype": "text/x-python",
   "name": "python",
   "nbconvert_exporter": "python",
   "pygments_lexer": "ipython3",
   "version": "3.11.7"
  }
 },
 "nbformat": 4,
 "nbformat_minor": 5
}
